{
  "cells": [
    {
      "cell_type": "markdown",
      "metadata": {
        "deletable": false,
        "editable": false,
        "id": "VZf2akBaMjq8",
        "nbgrader": {
          "cell_type": "markdown",
          "checksum": "2e5ac741411858b14b5651883f5f6fcd",
          "grade": false,
          "grade_id": "cell-39039e97c5ca497a",
          "locked": true,
          "schema_version": 3,
          "solution": false,
          "task": false
        }
      },
      "source": [
        "BloomTech Data Science\n",
        "\n",
        "*Unit 2, Sprint 1*\n",
        "\n",
        "---\n",
        "\n",
        "👇 **Do not change the code in this cell.** If you're working in Google Colab, you can run this cell to install `category_encoders`."
      ]
    },
    {
      "cell_type": "code",
      "execution_count": 1,
      "metadata": {
        "deletable": false,
        "editable": false,
        "nbgrader": {
          "cell_type": "code",
          "checksum": "53464cc768e269c070c42bd152223bbc",
          "grade": false,
          "grade_id": "cell-99b74e54a46dec38",
          "locked": true,
          "schema_version": 3,
          "solution": false,
          "task": false
        },
        "id": "dqxK01rib9rl"
      },
      "outputs": [],
      "source": [
        "%%capture\n",
        "# If you're in Colab...\n",
        "import sys\n",
        "if 'google.colab' in sys.modules:\n",
        "    !pip install category_encoders==2.*"
      ]
    },
    {
      "cell_type": "markdown",
      "metadata": {
        "deletable": false,
        "editable": false,
        "nbgrader": {
          "cell_type": "markdown",
          "checksum": "8ffcbfcc12357213a3be26710877c891",
          "grade": false,
          "grade_id": "cell-6c3b25a3a9ca2f0a",
          "locked": true,
          "schema_version": 3,
          "solution": false,
          "task": false
        },
        "id": "dR-jxci2b9rn"
      },
      "source": [
        "\n",
        "# Sprint Challenge: Predicting Home Prices in Iowa 🏠\n",
        "\n",
        "The goal of this assignment is to build a regression model that can predict the sale price of a house in Aimes, Iowa.\n",
        "\n",
        "# Directions\n",
        "\n",
        "This notebook contains 12 tasks, which cover the material we've learned in this sprint. Here's a summary:\n",
        "\n",
        "- **Task 1:** Import training data.\n",
        "- **Task 2 (`stretch goal`):** Create scatter plot.\n",
        "- **Task 3:** Split data into feature matrix and target vector.\n",
        "- **Task 4:** Split data into training and validation sets.\n",
        "- **Task 5:** Establish baseline mean absolute error.\n",
        "- **Task 6:** Build and train linear regression model.\n",
        "- **Task 7:** Build and train ridge regression model.\n",
        "- **Task 8:** Calculate mean absolute error for training and validation sets.\n",
        "- **Task 9:** Calculate $R^2$ for validation set.\n",
        "- **Task 10:** Make predictions based on test set.\n",
        "- **Task 11 (`stretch goal`):** Get below 18,000 for test set MAE.\n",
        "- **Task 12 (`stretch goal`):** Plot model coefficients.\n",
        "\n",
        "For each task you should do the following:\n",
        "\n",
        "- Read the task instructions.\n",
        "- Write your code in the cell below the task. Delete the `raise NotImplementedError` before your start.\n",
        "- Run the testing cell below the task. If you get an error, read the error message and re-evaluate your code.\n",
        "\n",
        "**You should limit your code to the following libraries:**\n",
        "\n",
        "- `category_encoders`\n",
        "- `numpy`\n",
        "- `matplotlib`\n",
        "- `pandas`\n",
        "- `sklearn`\n",
        "\n",
        "# Tasks\n",
        "\n",
        "## I. Wrangle Data\n",
        "\n",
        "**Task 1:** Since real estate prices fluctuate over time, it's important to index the houses in this dataset using the year in which they were sold. First, load the dataset into a DataFrame named `df` and find the column that states the year sold. Next, modify the code below so that `Yr_Sold` column is parsed as a datetime object and set as the index."
      ]
    },
    {
      "cell_type": "code",
      "execution_count": 6,
      "metadata": {
        "deletable": false,
        "id": "7ptoRG1lu7H4",
        "nbgrader": {
          "cell_type": "code",
          "checksum": "971bae389cac7fcc8b6b743b55faaa50",
          "grade": false,
          "grade_id": "cell-f40876cb08c183d1",
          "locked": false,
          "schema_version": 3,
          "solution": true,
          "task": false
        }
      },
      "outputs": [],
      "source": [
        "'''T1: Import data into DataFrame `df`.'''\n",
        "import pandas as pd\n",
        "import matplotlib.pyplot as plt\n",
        "import numpy as np\n",
        "import seaborn as sns\n",
        "from sklearn.pipeline import make_pipeline\n",
        "from sklearn.linear_model import LinearRegression, Ridge, LogisticRegression\n",
        "from sklearn.metrics import mean_absolute_error, mean_squared_error\n",
        "from sklearn.impute import SimpleImputer\n",
        "from sklearn.preprocessing import StandardScaler\n",
        "from sklearn.model_selection import train_test_split\n",
        "from category_encoders import OneHotEncoder\n",
        "\n",
        "\n",
        "url_train = 'https://drive.google.com/uc?export=download&id=1tmYLQ1RwIgjI_d66PWnlXU-5D_VxtiQc'\n",
        "\n",
        "# YOUR CODE HERE\n",
        "\n",
        "df = pd.read_csv(url_train,\n",
        "                 parse_dates = ['Yr_Sold'],\n",
        "                 index_col = 'Yr_Sold').sort_index()\n"
      ]
    },
    {
      "cell_type": "markdown",
      "metadata": {
        "deletable": false,
        "editable": false,
        "nbgrader": {
          "cell_type": "markdown",
          "checksum": "57df30990e0ac2245815c1522618652d",
          "grade": false,
          "grade_id": "cell-7681af23bef769bb",
          "locked": true,
          "schema_version": 3,
          "solution": false,
          "task": false
        },
        "id": "SJYs92y2b9ro"
      },
      "source": [
        "**Task 1 Testing**"
      ]
    },
    {
      "cell_type": "code",
      "execution_count": 7,
      "metadata": {
        "deletable": false,
        "editable": false,
        "nbgrader": {
          "cell_type": "code",
          "checksum": "e374e5061d1a751df80d90f197d2b064",
          "grade": true,
          "grade_id": "cell-25880b9c025295c5",
          "locked": true,
          "points": 1,
          "schema_version": 3,
          "solution": false,
          "task": false
        },
        "id": "BZyN1znrb9ro"
      },
      "outputs": [],
      "source": [
        "'''T1 Testing.'''\n",
        "assert isinstance(df, pd.DataFrame), '`df` is not a DataFrame. Did you import the data?'\n",
        "assert len(df) == 2564, 'DataFrame `df` has the wrong number of rows.'\n",
        "assert isinstance(df.index, pd.DatetimeIndex), '`df` does not have a datetime index.'"
      ]
    },
    {
      "cell_type": "markdown",
      "metadata": {
        "deletable": false,
        "editable": false,
        "nbgrader": {
          "cell_type": "markdown",
          "checksum": "0238173d96fa9190e6a2ee242499126a",
          "grade": false,
          "grade_id": "cell-81a7c3a23718bfd1",
          "locked": true,
          "schema_version": 3,
          "solution": false,
          "task": false
        },
        "id": "5OIGHttpb9rp"
      },
      "source": [
        "**Task 2 (`stretch goal`):** Create a scatter plot that shows `'SalePrice'` as a function of `'Gr_Liv_Area'`. Be sure to label the axes of your plot."
      ]
    },
    {
      "cell_type": "code",
      "execution_count": 11,
      "metadata": {
        "deletable": false,
        "nbgrader": {
          "cell_type": "code",
          "checksum": "894e735ac4bb5911d536ee8852c2111f",
          "grade": false,
          "grade_id": "cell-8ee63eed57f965ea",
          "locked": false,
          "schema_version": 3,
          "solution": true,
          "task": false
        },
        "id": "Ior20TZIb9rp",
        "colab": {
          "base_uri": "https://localhost:8080/",
          "height": 472
        },
        "outputId": "69e3946e-3dfc-4a2f-cc8e-29514fdd87b3"
      },
      "outputs": [
        {
          "output_type": "display_data",
          "data": {
            "text/plain": [
              "<Figure size 640x480 with 1 Axes>"
            ],
            "image/png": "[encoded data removed]"
          },
          "metadata": {}
        }
      ],
      "source": [
        "import matplotlib.pyplot as plt\n",
        "\n",
        "# YOUR CODE HERE\n",
        "x = df['Gr_Liv_Area']\n",
        "y = df['SalePrice']\n",
        "plt.scatter(x, y)\n",
        "plt.xlabel('SqFt')\n",
        "plt.ylabel('Price')\n",
        "plt.title('Home Price Based on SqFt');"
      ]
    },
    {
      "cell_type": "markdown",
      "metadata": {
        "deletable": false,
        "editable": false,
        "nbgrader": {
          "cell_type": "markdown",
          "checksum": "8c8dd11e8a0388b018d59e6aca553ab6",
          "grade": false,
          "grade_id": "cell-17226b293bcb9e54",
          "locked": true,
          "schema_version": 3,
          "solution": false,
          "task": false
        },
        "id": "_K1EB3QCb9rq"
      },
      "source": [
        "## II. Split Data\n",
        "\n",
        "**Task 3:** Since you're building a model to predict the price at which a house will be sold, your target is the `'SalePrice'` column. Split the DataFrame `df` into the target vector `y` and the feature matrix `X`."
      ]
    },
    {
      "cell_type": "code",
      "execution_count": 12,
      "metadata": {
        "deletable": false,
        "nbgrader": {
          "cell_type": "code",
          "checksum": "9a2ebca053c8701207fd5db749e36d0a",
          "grade": false,
          "grade_id": "cell-4207f17d2e629cbd",
          "locked": false,
          "schema_version": 3,
          "solution": true,
          "task": false
        },
        "id": "Q-3V6MkPb9rq"
      },
      "outputs": [],
      "source": [
        "'''T3: Split `df` into `X` and `y`.'''\n",
        "\n",
        "target = 'SalePrice'\n",
        "# YOUR CODE HERE\n",
        "y = df[target]\n",
        "X = df.drop(columns = target)"
      ]
    },
    {
      "cell_type": "markdown",
      "metadata": {
        "deletable": false,
        "editable": false,
        "nbgrader": {
          "cell_type": "markdown",
          "checksum": "0eaf400e2a187b0a44d22c5f94573e8a",
          "grade": false,
          "grade_id": "cell-2f0e0292ea6ebc3b",
          "locked": true,
          "schema_version": 3,
          "solution": false,
          "task": false
        },
        "id": "9kl8C-ujb9rr"
      },
      "source": [
        "**Task 3 Testing**"
      ]
    },
    {
      "cell_type": "code",
      "execution_count": 14,
      "metadata": {
        "deletable": false,
        "editable": false,
        "nbgrader": {
          "cell_type": "code",
          "checksum": "37e8cadf75dc3ed7257d278154912f99",
          "grade": true,
          "grade_id": "cell-7e83bdb6a35f2699",
          "locked": true,
          "points": 1,
          "schema_version": 3,
          "solution": false,
          "task": false
        },
        "id": "NunOJngMb9rr"
      },
      "outputs": [],
      "source": [
        "'''T3 Tests'''\n",
        "assert y.shape == (2564,), '`y` either has the wrong number of rows, or is two-dimentional.'\n",
        "assert X.shape == (2564, 45), '`X` has the wrong number of columns or rows.'\n",
        "assert 'SalePrice' not in X.columns, 'Target is still part of feature matrix.'"
      ]
    },
    {
      "cell_type": "markdown",
      "metadata": {
        "deletable": false,
        "editable": false,
        "nbgrader": {
          "cell_type": "markdown",
          "checksum": "94fa1718a8d544efd9740e055eed9dee",
          "grade": false,
          "grade_id": "cell-708c2f8aa9bebfa1",
          "locked": true,
          "schema_version": 3,
          "solution": false,
          "task": false
        },
        "id": "0jtoZVuHb9rr"
      },
      "source": [
        "**Task 4:** Split `X` and `y` into training and validation sets. Since housing prices fluctuate over time, you should use the time-based cutoff method.\n",
        "\n",
        "- Training: Homes sold before 2009\n",
        "- Validation: Homes sold during 2009"
      ]
    },
    {
      "cell_type": "code",
      "execution_count": 18,
      "metadata": {
        "deletable": false,
        "nbgrader": {
          "cell_type": "code",
          "checksum": "11d8d6d6ef1622e19b0e405523389c0e",
          "grade": false,
          "grade_id": "cell-2efa29975d55a10c",
          "locked": false,
          "schema_version": 3,
          "solution": true,
          "task": false
        },
        "id": "0Z7gCGlmb9rr"
      },
      "outputs": [],
      "source": [
        "'''T4: Split `X` and `y` into training, validation, and testing sets.'''\n",
        "\n",
        "# YOUR CODE HERE\n",
        "cutoff = '2009-01-01'\n",
        "mask = X.index < cutoff\n",
        "\n",
        "X_train, y_train = X.loc[mask], y.loc[mask]\n",
        "X_val, y_val = X.loc[~mask], y.loc[~mask]"
      ]
    },
    {
      "cell_type": "markdown",
      "metadata": {
        "deletable": false,
        "editable": false,
        "nbgrader": {
          "cell_type": "markdown",
          "checksum": "47db7906e0f22fc02ec2827ee582f60d",
          "grade": false,
          "grade_id": "cell-bef5af92ef24c478",
          "locked": true,
          "schema_version": 3,
          "solution": false,
          "task": false
        },
        "id": "g4AKtkWob9rs"
      },
      "source": [
        "**Task 4 Testing**"
      ]
    },
    {
      "cell_type": "code",
      "execution_count": 19,
      "metadata": {
        "deletable": false,
        "editable": false,
        "nbgrader": {
          "cell_type": "code",
          "checksum": "df87bc0b203410d307eb9773fdbc113d",
          "grade": true,
          "grade_id": "cell-458101f90b6b100b",
          "locked": true,
          "points": 1,
          "schema_version": 3,
          "solution": false,
          "task": false
        },
        "id": "6obNNJk-b9rs"
      },
      "outputs": [],
      "source": [
        "'''T4 Tests'''\n",
        "assert len(X_train) == len(y_train) == 1920, 'Your training set has the wrong number of rows.'\n",
        "assert len(X_val) == len(y_val) == 644, 'Your validation set has the wrong number of rows.'"
      ]
    },
    {
      "cell_type": "markdown",
      "metadata": {
        "deletable": false,
        "editable": false,
        "nbgrader": {
          "cell_type": "markdown",
          "checksum": "d6a8d57a5e0f00b03dcc7127d385fef3",
          "grade": false,
          "grade_id": "cell-63da195f83201124",
          "locked": true,
          "schema_version": 3,
          "solution": false,
          "task": false
        },
        "id": "-ztB0Bmeb9rs"
      },
      "source": [
        "## III. Set Baseline\n",
        "\n",
        "**Task 5:** Before you can create a model to predict sale price, you need to establish a baseline. First, calculate the mean housing price for your training set. Next, calculate the *mean absolute error* for a model that always predicts that mean. Be sure to assign the mean absolute error to a variable named `baseline_mae`."
      ]
    },
    {
      "cell_type": "code",
      "execution_count": 22,
      "metadata": {
        "deletable": false,
        "nbgrader": {
          "cell_type": "code",
          "checksum": "6bd6e555eb003bc08b8ff2ef2f8bc087",
          "grade": false,
          "grade_id": "cell-62dc6e7707644a97",
          "locked": false,
          "schema_version": 3,
          "solution": true,
          "task": false
        },
        "id": "qch2cusIb9rs",
        "colab": {
          "base_uri": "https://localhost:8080/"
        },
        "outputId": "d4d11950-3b9f-4d9c-ebe3-7a9693cfb0b7"
      },
      "outputs": [
        {
          "output_type": "stream",
          "name": "stdout",
          "text": [
            "Baseline MAE: 58502.939463975694\n"
          ]
        }
      ],
      "source": [
        "'''T5: Calculate baseline mean absolute error.'''\n",
        "from sklearn.metrics import mean_absolute_error\n",
        "\n",
        "# YOUR CODE HERE\n",
        "y_pred = [y_train.mean()] * len(y_train)\n",
        "baseline_mae = mean_absolute_error(y_train, y_pred)\n",
        "\n",
        "print('Baseline MAE:', baseline_mae)"
      ]
    },
    {
      "cell_type": "markdown",
      "metadata": {
        "deletable": false,
        "editable": false,
        "nbgrader": {
          "cell_type": "markdown",
          "checksum": "89a1eda38ecc3c38f2f7b5ec42a9be9f",
          "grade": false,
          "grade_id": "cell-c76f1e15a9f7093f",
          "locked": true,
          "schema_version": 3,
          "solution": false,
          "task": false
        },
        "id": "3J3Dd0Gwb9rt"
      },
      "source": [
        "**Task 5 Testing**"
      ]
    },
    {
      "cell_type": "code",
      "execution_count": 23,
      "metadata": {
        "deletable": false,
        "editable": false,
        "nbgrader": {
          "cell_type": "code",
          "checksum": "cbb7bc74c0aa899f6bc9745f7947d37a",
          "grade": true,
          "grade_id": "cell-cfcf0f63baa004f9",
          "locked": true,
          "points": 1,
          "schema_version": 3,
          "solution": false,
          "task": false
        },
        "id": "Ea1v0JjCb9rt"
      },
      "outputs": [],
      "source": [
        "'''T5 Tests'''\n",
        "assert isinstance(baseline_mae, float), '`baseline_mae` is not a `float`. Have you assigned a value to this variable name?'"
      ]
    },
    {
      "cell_type": "markdown",
      "metadata": {
        "deletable": false,
        "editable": false,
        "nbgrader": {
          "cell_type": "markdown",
          "checksum": "07eabd28839601f0c7a2f98893681016",
          "grade": false,
          "grade_id": "cell-63b7627f91c1e767",
          "locked": true,
          "schema_version": 3,
          "solution": false,
          "task": false
        },
        "id": "SIJDgnZcb9rt"
      },
      "source": [
        "## IV. Build Models\n",
        "\n",
        "**Task 6:** Build and train a linear regression model named `model_lr` that predicts home sale price. Your model should have the following components:\n",
        "\n",
        "- A `OneHotEncoder` for categorical features.\n",
        "- A `StandardScaler` so that you can compare your model coefficients after training.\n",
        "- A `pipeline` that combines transformers and predictor.\n",
        "\n",
        "**Tip:** For your `OneHotEncoder`, `use_cat_names` should be set to `True`."
      ]
    },
    {
      "cell_type": "code",
      "execution_count": 30,
      "metadata": {
        "deletable": false,
        "nbgrader": {
          "cell_type": "code",
          "checksum": "3236c609a2729c303682be55af187cb2",
          "grade": false,
          "grade_id": "cell-b80a918d2acd5e24",
          "locked": false,
          "schema_version": 3,
          "solution": true,
          "task": false
        },
        "id": "1JcDIwWwb9rt"
      },
      "outputs": [],
      "source": [
        "'''T6: Build and train LinearRegression model.'''\n",
        "from sklearn.pipeline import make_pipeline\n",
        "from sklearn.linear_model import LinearRegression\n",
        "from category_encoders import OneHotEncoder\n",
        "from sklearn.preprocessing import StandardScaler\n",
        "\n",
        "# YOUR CODE HERE\n",
        "model_lr = make_pipeline(\n",
        "    OneHotEncoder(use_cat_names=True),\n",
        "    StandardScaler(),\n",
        "    LinearRegression()\n",
        ")\n",
        "\n",
        "model_lr.fit(X_train, y_train);"
      ]
    },
    {
      "cell_type": "markdown",
      "metadata": {
        "deletable": false,
        "editable": false,
        "nbgrader": {
          "cell_type": "markdown",
          "checksum": "338030033710797cd30babb94a6754df",
          "grade": false,
          "grade_id": "cell-b11e913f60dd1a4f",
          "locked": true,
          "schema_version": 3,
          "solution": false,
          "task": false
        },
        "id": "yDSluX6fb9rt"
      },
      "source": [
        "**Task 6 Testing**"
      ]
    },
    {
      "cell_type": "code",
      "execution_count": 31,
      "metadata": {
        "deletable": false,
        "editable": false,
        "nbgrader": {
          "cell_type": "code",
          "checksum": "468f711478be292802bc195e53341b4e",
          "grade": true,
          "grade_id": "cell-066938e1bd64a34c",
          "locked": true,
          "points": 1,
          "schema_version": 3,
          "solution": false,
          "task": false
        },
        "id": "8OAH15jjb9rt"
      },
      "outputs": [],
      "source": [
        "'''T6 Tests'''\n",
        "from sklearn.pipeline import Pipeline\n",
        "assert isinstance(model_lr, Pipeline), '`model_lr` is not a pipeline.'\n",
        "assert len(model_lr.named_steps) > 1, 'Your `model_lr` pipeline is missing components.'"
      ]
    },
    {
      "cell_type": "markdown",
      "metadata": {
        "deletable": false,
        "editable": false,
        "nbgrader": {
          "cell_type": "markdown",
          "checksum": "7a6a411b3833aaf17296afc3f2c6f29c",
          "grade": false,
          "grade_id": "cell-6a4782a94cdea347",
          "locked": true,
          "schema_version": 3,
          "solution": false,
          "task": false
        },
        "id": "SQTgsgXab9ru"
      },
      "source": [
        "**Task 7:** Build and train a ridge regression model named `model_r` that predicts home sales price. Your model should include the following components:\n",
        "\n",
        "- A `OneHotEncoder` for categorical features.\n",
        "- A `StandardScaler` so that you can compare your model coefficients after training.\n",
        "- A `pipeline` that combines transformers and predictor.\n",
        "\n",
        "**Tip:** For your `Ridge` model, the `alpha` parameter should be set to a value of your choosing. Read more about the `alpha` parameter [here](https://scikit-learn.org/stable/modules/generated/sklearn.linear_model.Ridge.html)"
      ]
    },
    {
      "cell_type": "code",
      "execution_count": 32,
      "metadata": {
        "deletable": false,
        "nbgrader": {
          "cell_type": "code",
          "checksum": "46bcd5b6c64f4a1ae928ef1acd3b9de9",
          "grade": false,
          "grade_id": "cell-02455b6368014e2e",
          "locked": false,
          "schema_version": 3,
          "solution": true,
          "task": false
        },
        "id": "_848UX3Hb9ru"
      },
      "outputs": [],
      "source": [
        "'''T7. Build and train Ridge model.'''\n",
        "from sklearn.linear_model import Ridge\n",
        "\n",
        "# YOUR CODE HERE\n",
        "model_r = make_pipeline(\n",
        "    OneHotEncoder(use_cat_names=True),\n",
        "    StandardScaler(),\n",
        "    Ridge(alpha=1)\n",
        ")\n",
        "\n",
        "model_r.fit(X_train, y_train);"
      ]
    },
    {
      "cell_type": "markdown",
      "metadata": {
        "deletable": false,
        "editable": false,
        "nbgrader": {
          "cell_type": "markdown",
          "checksum": "90aa367eafd0e03865b2cc63362e514b",
          "grade": false,
          "grade_id": "cell-2aa05e9d2072aafc",
          "locked": true,
          "schema_version": 3,
          "solution": false,
          "task": false
        },
        "id": "ZSBGBf4Db9ru"
      },
      "source": [
        "**Task 7 Testing**"
      ]
    },
    {
      "cell_type": "code",
      "execution_count": 34,
      "metadata": {
        "deletable": false,
        "editable": false,
        "nbgrader": {
          "cell_type": "code",
          "checksum": "494444724b003384b1d52268e65b1de5",
          "grade": true,
          "grade_id": "cell-587e7ab699c005cb",
          "locked": true,
          "points": 1,
          "schema_version": 3,
          "solution": false,
          "task": false
        },
        "id": "_uRG3dY_b9ru"
      },
      "outputs": [],
      "source": [
        "assert isinstance(model_r, Pipeline), '`model_r` is not a pipeline.'\n",
        "assert len(model_r.named_steps) > 1, 'Your `model_r` pipeline is missing components.'"
      ]
    },
    {
      "cell_type": "markdown",
      "metadata": {
        "deletable": false,
        "editable": false,
        "nbgrader": {
          "cell_type": "markdown",
          "checksum": "4d39f90747ab640c15dba634dc5ddfb0",
          "grade": false,
          "grade_id": "cell-cb2403e89e718a6d",
          "locked": true,
          "schema_version": 3,
          "solution": false,
          "task": false
        },
        "id": "aerNRbBGb9ru"
      },
      "source": [
        "## V. Check Metrics\n",
        "\n",
        "**Task 8:** Compare your models by calculating their mean absolute error for the training and validation sets. You should assign these to the variables `model_lr_training_mae`, `model_lr_validation_mae`, `model_r_training_mae`, and `model_r_validation_mae`, respectively. The validation MAE for your Ridge model should be lower than your `baseline_mae`."
      ]
    },
    {
      "cell_type": "code",
      "execution_count": 37,
      "metadata": {
        "deletable": false,
        "nbgrader": {
          "cell_type": "code",
          "checksum": "0c2faccf61831b14df7ab3c03e64a33b",
          "grade": false,
          "grade_id": "cell-10ea192c7e6ee9de",
          "locked": false,
          "schema_version": 3,
          "solution": true,
          "task": false
        },
        "id": "7xNya6gDb9ru",
        "colab": {
          "base_uri": "https://localhost:8080/"
        },
        "outputId": "604709be-e8db-4139-f702-a656dbc13dd4"
      },
      "outputs": [
        {
          "output_type": "stream",
          "name": "stdout",
          "text": [
            "Linear Regression Model\n",
            "Training MAE: 16207.83038125651\n",
            "Validation MAE: 1.263781462517931e+16\n",
            "\n",
            "Ridge Regression Model\n",
            "Training MAE: 16119.82269174394\n",
            "Validation MAE: 17986.91980312962\n"
          ]
        }
      ],
      "source": [
        "'''T8: Compare model metrics, MAE.'''\n",
        "# YOUR CODE HERE\n",
        "model_lr_training_mae = mean_absolute_error(y_train, model_lr.predict(X_train))\n",
        "model_lr_validation_mae = mean_absolute_error(y_val, model_lr.predict(X_val))\n",
        "model_r_training_mae = mean_absolute_error(y_train, model_r.predict(X_train))\n",
        "model_r_validation_mae = mean_absolute_error(y_val, model_r.predict(X_val))\n",
        "\n",
        "print('Linear Regression Model')\n",
        "print('Training MAE:', model_lr_training_mae)\n",
        "print('Validation MAE:', model_lr_validation_mae)\n",
        "print()\n",
        "print('Ridge Regression Model')\n",
        "print('Training MAE:', model_r_training_mae)\n",
        "print('Validation MAE:', model_r_validation_mae)"
      ]
    },
    {
      "cell_type": "markdown",
      "metadata": {
        "deletable": false,
        "editable": false,
        "nbgrader": {
          "cell_type": "markdown",
          "checksum": "0d253121492c2cdb1eced8eed2776b35",
          "grade": false,
          "grade_id": "cell-2ec63ac76b9a8d09",
          "locked": true,
          "schema_version": 3,
          "solution": false,
          "task": false
        },
        "id": "e45lgjlRb9rv"
      },
      "source": [
        "**Task 8 Testing**"
      ]
    },
    {
      "cell_type": "code",
      "execution_count": 38,
      "metadata": {
        "deletable": false,
        "editable": false,
        "nbgrader": {
          "cell_type": "code",
          "checksum": "865bfca633e9cfd2c5dd0adac5b5a183",
          "grade": true,
          "grade_id": "cell-e467cc19a51d9a41",
          "locked": true,
          "points": 1,
          "schema_version": 3,
          "solution": false,
          "task": false
        },
        "id": "lt_CfzJfb9rv"
      },
      "outputs": [],
      "source": [
        "'''T8 Tests'''\n",
        "assert isinstance(model_lr_training_mae, float), '`model_lr_training_mae` is not a float. Did you assign a value to this variable?'\n",
        "assert isinstance(model_lr_validation_mae, float), '`model_lr_validation_mae` is not a float. Did you assign a value to this variable?'\n",
        "assert isinstance(model_r_training_mae, float), '`model_r_training_mae` is not a float. Did you assign a value to this variable?'\n",
        "assert isinstance(model_r_validation_mae, float), '`model_r_validation_mae` is not a float. Did you assign a value to this variable?'"
      ]
    },
    {
      "cell_type": "markdown",
      "metadata": {
        "deletable": false,
        "editable": false,
        "nbgrader": {
          "cell_type": "markdown",
          "checksum": "cfd848fa6845b865766fdacba122f739",
          "grade": false,
          "grade_id": "cell-0299e563a01e1b52",
          "locked": true,
          "schema_version": 3,
          "solution": false,
          "task": false
        },
        "id": "yoeQFVY4b9rv"
      },
      "source": [
        "**Task 9:** Compare your two models by calculating their $R^2$ score for the **validation data**."
      ]
    },
    {
      "cell_type": "code",
      "execution_count": 40,
      "metadata": {
        "deletable": false,
        "nbgrader": {
          "cell_type": "code",
          "checksum": "194fd47bb0c692386205a20dce6d0ebd",
          "grade": false,
          "grade_id": "cell-92d55f4de3bb7f31",
          "locked": false,
          "schema_version": 3,
          "solution": true,
          "task": false
        },
        "id": "-uH33asJb9rv",
        "colab": {
          "base_uri": "https://localhost:8080/"
        },
        "outputId": "3843ca95-7449-470f-da8d-d067dd6c41bf"
      },
      "outputs": [
        {
          "output_type": "stream",
          "name": "stdout",
          "text": [
            "Linear Regression R^2: -8.222782277794435e+24\n",
            "Ridge Regression R^2: 0.8887380165377925\n"
          ]
        }
      ],
      "source": [
        "'''T9: Compare model metrics, R^2.'''\n",
        "# YOUR CODE HERE\n",
        "model_lr_r2_score = model_lr.score(X_val, y_val)\n",
        "model_r_r2_score = model_r.score(X_val, y_val)\n",
        "\n",
        "print('Linear Regression R^2:', model_lr_r2_score)\n",
        "print('Ridge Regression R^2:', model_r_r2_score)"
      ]
    },
    {
      "cell_type": "markdown",
      "metadata": {
        "deletable": false,
        "editable": false,
        "nbgrader": {
          "cell_type": "markdown",
          "checksum": "cdab1c4db0fa73faa3accb9a7f45c538",
          "grade": false,
          "grade_id": "cell-3b4914d6284ec6da",
          "locked": true,
          "schema_version": 3,
          "solution": false,
          "task": false
        },
        "id": "Q36rH8p-b9rv"
      },
      "source": [
        "**Task 9 Testing**"
      ]
    },
    {
      "cell_type": "code",
      "execution_count": 41,
      "metadata": {
        "deletable": false,
        "editable": false,
        "nbgrader": {
          "cell_type": "code",
          "checksum": "9f96edc1cb343a3135e61e9657a73a32",
          "grade": true,
          "grade_id": "cell-7b79f2550b912074",
          "locked": true,
          "points": 1,
          "schema_version": 3,
          "solution": false,
          "task": false
        },
        "id": "o4oyo0kUb9rw"
      },
      "outputs": [],
      "source": [
        "'''T9 Tests'''\n",
        "assert isinstance(model_lr_r2_score, float), '`model_lr_r2_score` is not a float. Did you assign a value to this variable?'\n",
        "assert isinstance(model_r_r2_score, float), '`model_r_r2_score` is not a float. Did you assign a value to this variable?'\n",
        "assert model_lr_r2_score <= 1, 'The maximum value for an R^2 score is 1.'\n",
        "assert model_r_r2_score <= 1, 'The maximum value for an R^2 score is 1.'"
      ]
    },
    {
      "cell_type": "markdown",
      "metadata": {
        "id": "9IRUHWXdb9rw"
      },
      "source": [
        "**Task 10:** Based on the metrics above, choose the best of your two models and generate an array of predictions `y_pred` using the test set below.\n",
        "\n",
        "**Note:** Make sure that you import and clean the test set *exactly the same way* you did with the training set at the start of this notebook."
      ]
    },
    {
      "cell_type": "code",
      "execution_count": 44,
      "metadata": {
        "deletable": false,
        "nbgrader": {
          "cell_type": "code",
          "checksum": "e72becd77504ec4f4855ef07c4b7edfb",
          "grade": false,
          "grade_id": "cell-87695ab01935fdd9",
          "locked": false,
          "schema_version": 3,
          "solution": true,
          "task": false
        },
        "id": "RZWPBjIDb9rw",
        "colab": {
          "base_uri": "https://localhost:8080/"
        },
        "outputId": "ed3db27e-3a16-47ed-82ea-4263c587eb74"
      },
      "outputs": [
        {
          "output_type": "stream",
          "name": "stdout",
          "text": [
            "My predictions: [219431.82052472 104354.37322437 159396.82083221]\n"
          ]
        }
      ],
      "source": [
        "url_test = 'https://drive.google.com/uc?export=download&id=1y9u8cOWprTjruw8E-ct1c7YaEytToqd_'\n",
        "X_test = pd.read_csv(url_test)\n",
        "\n",
        "# YOUR CODE HERE\n",
        "X_test = pd.read_csv(url_test,\n",
        "                 parse_dates = ['Yr_Sold'],\n",
        "                 index_col = 'Yr_Sold').sort_index()\n",
        "\n",
        "y_pred = model_r.predict(X_test)\n",
        "\n",
        "print('My predictions:', y_pred[:3])"
      ]
    },
    {
      "cell_type": "markdown",
      "metadata": {
        "deletable": false,
        "editable": false,
        "nbgrader": {
          "cell_type": "markdown",
          "checksum": "a80a31eaf092ba24ab86f6d5e1ec9494",
          "grade": false,
          "grade_id": "cell-94a472804463b225",
          "locked": true,
          "schema_version": 3,
          "solution": false,
          "task": false
        },
        "id": "mU6i6Rpib9rw"
      },
      "source": [
        "**Task 10 Testing:** There is a hidden test in the cell below. When you submit your notebook to Canvas, your test MAE will be calculated. In order to get the point for this task, your test MAE must be below 58,000.\n",
        "\n",
        "**Tip:** Use your validation MAE to estimate what your test MAE will be."
      ]
    },
    {
      "cell_type": "code",
      "execution_count": 45,
      "metadata": {
        "deletable": false,
        "editable": false,
        "nbgrader": {
          "cell_type": "code",
          "checksum": "8db84fc1232302dcfbccf4dba2c3221e",
          "grade": true,
          "grade_id": "cell-c3c94d263dabfe02",
          "locked": true,
          "points": 1,
          "schema_version": 3,
          "solution": false,
          "task": false
        },
        "id": "WmvT5zTwb9r1"
      },
      "outputs": [],
      "source": [
        "import numpy as np\n",
        "assert isinstance(y_pred, np.ndarray), '`y_pred` should be type `ndarray`.'\n",
        "assert y_pred.shape == (340,), '`y_pred` should be a 1-dimentional array with 340 predictions.'\n",
        "# Your test MAE will be printed out below when you submit your assignment."
      ]
    },
    {
      "cell_type": "markdown",
      "metadata": {
        "deletable": false,
        "editable": false,
        "nbgrader": {
          "cell_type": "markdown",
          "checksum": "c07fa550b9f9172838d15922e90af360",
          "grade": false,
          "grade_id": "cell-281a86aa67d353e9",
          "locked": true,
          "schema_version": 3,
          "solution": false,
          "task": false
        },
        "id": "eGYeFqHdb9r1"
      },
      "source": [
        "**Task 11 (`stretch goal`):** There's no code to write for this task. Below is another testing cell that will calculate the MAE for your test set. In order to get the point for this task, your test MAE must be below 18,000.\n",
        "\n",
        "**Tip:** Are there any **hyperparameters** in your model that you could adjust to improve performance?"
      ]
    },
    {
      "cell_type": "code",
      "execution_count": 47,
      "metadata": {
        "deletable": false,
        "editable": false,
        "nbgrader": {
          "cell_type": "code",
          "checksum": "6f15243aec0804a52d4fad54dd6de4a9",
          "grade": true,
          "grade_id": "cell-40815d96e2a2adf9",
          "locked": true,
          "points": 0,
          "schema_version": 3,
          "solution": false,
          "task": false
        },
        "id": "DyXFSJMbb9r1"
      },
      "outputs": [],
      "source": [
        "assert isinstance(y_pred, np.ndarray), '`y_pred` should be type `ndarray`.'\n",
        "assert y_pred.shape == (340,), '`y_pred` should be a 1-dimentional array with 340 predictions.'\n",
        "# Your test MAE will be printed out below when you submit your assignment."
      ]
    },
    {
      "cell_type": "markdown",
      "metadata": {
        "deletable": false,
        "editable": false,
        "nbgrader": {
          "cell_type": "markdown",
          "checksum": "d844c40823ca7038b76494524f632bd8",
          "grade": false,
          "grade_id": "cell-e724aba3fc221134",
          "locked": true,
          "schema_version": 3,
          "solution": false,
          "task": false
        },
        "id": "hNUJGpWCb9r2"
      },
      "source": [
        "## VI. Explain Model\n",
        "\n",
        "**Task 12 (`stretch goal`):** Create a horizontal barchart for your best performing model that shows the ten most important features for the model's predictions. Don't forget to label your axes!\n",
        "\n",
        "This task will not be autograded - but it is part of completing the challenge."
      ]
    },
    {
      "cell_type": "code",
      "execution_count": 52,
      "metadata": {
        "deletable": false,
        "nbgrader": {
          "cell_type": "code",
          "checksum": "22360b5fca505bd10654fae809bf2797",
          "grade": false,
          "grade_id": "cell-ebd0b1ea2eab31c6",
          "locked": false,
          "schema_version": 3,
          "solution": true,
          "task": false
        },
        "id": "vWOwuvEZb9r2",
        "colab": {
          "base_uri": "https://localhost:8080/",
          "height": 472
        },
        "outputId": "a53d9f54-05e2-4496-e4e6-f20c75eda99d"
      },
      "outputs": [
        {
          "output_type": "display_data",
          "data": {
            "text/plain": [
              "<Figure size 640x480 with 1 Axes>"
            ],
            "image/png": "[encoded data removed]"
          },
          "metadata": {}
        }
      ],
      "source": [
        "# YOUR CODE HERE\n",
        "coefs = model_r.named_steps['ridge'].coef_\n",
        "feats = model_r.named_steps['onehotencoder'].get_feature_names_out()\n",
        "\n",
        "feat_imp = pd.Series(coefs, feats).sort_values(key=abs)\n",
        "feat_imp.tail(10).plot(kind = 'barh')\n",
        "\n",
        "plt.xlabel('$$$')\n",
        "plt.ylabel('Features')\n",
        "plt.title('Ridge Regression Model');"
      ]
    }
  ],
  "metadata": {
    "colab": {
      "provenance": []
    },
    "kernelspec": {
      "display_name": "Python 3",
      "language": "python",
      "name": "python3"
    },
    "language_info": {
      "codemirror_mode": {
        "name": "ipython",
        "version": 3
      },
      "file_extension": ".py",
      "mimetype": "text/x-python",
      "name": "python",
      "nbconvert_exporter": "python",
      "pygments_lexer": "ipython3",
      "version": "3.8.8"
    }
  },
  "nbformat": 4,
  "nbformat_minor": 0
}